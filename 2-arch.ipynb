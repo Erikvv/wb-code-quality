{
 "cells": [
  {
   "cell_type": "markdown",
   "id": "f4c9ac035503a747",
   "metadata": {},
   "source": [
    "# Systeemarchitectuur\n",
    "\n",
    "Een ingewikkelde applicatie:\n",
    "\n",
    "![blokje2](./blokje2.svg)\n",
    "\n",
    "Linkerzijde:\n",
    "\n",
    "- Webapp\n",
    "- Native app\n",
    "- Excel-bestand\n",
    "- E-mail\n",
    "- Sensor\n",
    "- SMS\n",
    "- mount"
   ]
  }
 ],
 "metadata": {
  "kernelspec": {
   "display_name": "Python 3 (ipykernel)",
   "language": "python",
   "name": "python3"
  },
  "language_info": {
   "codemirror_mode": {
    "name": "ipython",
    "version": 3
   },
   "file_extension": ".py",
   "mimetype": "text/x-python",
   "name": "python",
   "nbconvert_exporter": "python",
   "pygments_lexer": "ipython3",
   "version": "3.12.4"
  }
 },
 "nbformat": 4,
 "nbformat_minor": 5
}
