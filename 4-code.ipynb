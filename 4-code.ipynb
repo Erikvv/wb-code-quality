{
 "cells": [
  {
   "cell_type": "markdown",
   "id": "ce73d8ba-4ca7-442b-9299-fdecd3a7d619",
   "metadata": {},
   "source": [
    "# Code\n",
    "\n",
    "Hoe schrijven we code?\n",
    "\n",
    "Mijn advies: **Value Objects + Services** -> scheiding tussen data en gedrag+configuratie\n",
    "\n",
    "* design volgt natuurlijk\n",
    "* gemakkelijk aan te passen\n",
    "\n",
    "9 van de 10 keer de beste keuze\n",
    "\n",
    "# Tegenovergestelde\n",
    " \n",
    "fat model -> data en gedrag in hetzelfde object\n",
    "\n",
    "* Veel design van te voren nodig\n",
    "* Stateful / mutable -> beperkt functionaliteit\n",
    "* Moeilijk aan te passen\n",
    "* Verleiding tot globals, singletons, statics.\n",
    "\n",
    "# Value Objects\n",
    "\n",
    "= DTO's (Data Transfer Objects)\n",
    "\n",
    "Gebruikt voor:\n",
    "\n",
    "- input\n",
    "- output\n",
    "- communicatie tussen interne services (controllers, services, repositories)"
   ]
  },
  {
   "cell_type": "code",
   "execution_count": 2,
   "id": "62924ffa2e95dc57",
   "metadata": {
    "ExecuteTime": {
     "end_time": "2024-07-18T00:54:57.423446Z",
     "start_time": "2024-07-18T00:54:57.419551Z"
    }
   },
   "outputs": [
    {
     "data": {
      "text/plain": [
       "SensorSubmission(start=datetime.datetime(2024, 7, 18, 0, 0, 0, 283000, tzinfo=datetime.timezone(datetime.timedelta(seconds=7200))), end=datetime.datetime(2024, 7, 19, 0, 0, 0, 283000, tzinfo=datetime.timezone(datetime.timedelta(seconds=7200))), max_blinde_vering_mm=55)"
      ]
     },
     "execution_count": 2,
     "metadata": {},
     "output_type": "execute_result"
    }
   ],
   "source": [
    "from dataclasses import dataclass\n",
    "from datetime import datetime, timedelta\n",
    "\n",
    "@dataclass\n",
    "class SensorSubmission:\n",
    "    start: datetime\n",
    "    end: datetime\n",
    "    max_blinde_vering_mm: float\n",
    "\n",
    "\n",
    "sensor_submission = SensorSubmission(\n",
    "    start=datetime.fromisoformat('2024-07-18 00:00:00.283+02:00'),\n",
    "    end=datetime.fromisoformat('2024-07-19 00:00:00.283+02:00'),\n",
    "    max_blinde_vering_mm=55,\n",
    ")\n",
    "\n",
    "sensor_submission"
   ]
  },
  {
   "cell_type": "markdown",
   "id": "cb0d99707d42f1c7",
   "metadata": {},
   "source": [
    "# Normalisatie\n",
    "\n",
    "Single source of truth"
   ]
  },
  {
   "cell_type": "code",
   "execution_count": 5,
   "id": "ba012e2f66ff5127",
   "metadata": {
    "ExecuteTime": {
     "end_time": "2024-07-18T01:08:31.545001Z",
     "start_time": "2024-07-18T01:08:31.539092Z"
    }
   },
   "outputs": [],
   "source": [
    "from datetime import datetime, timedelta\n",
    "\n",
    "# fout\n",
    "@dataclass\n",
    "class SensorSubmission:\n",
    "    start: datetime\n",
    "    end: datetime\n",
    "    duration: timedelta # kan afgeleid worden van start en end\n",
    "    max_blinde_vering_mm: float\n",
    "    \n",
    "# goed\n",
    "@dataclass\n",
    "class SensorSubmission:\n",
    "    start: datetime\n",
    "    end: datetime\n",
    "    max_blinde_vering_mm: float\n",
    "\n",
    "    def duration(self) -> timedelta:\n",
    "        return self.end - self.start\n",
    "\n",
    "# fout\n",
    "@dataclass\n",
    "class SensorSubmission:\n",
    "    blinde_vering_per_passage_mm: list[float]\n",
    "    max_blinde_vering_mm: float # kan afgeleid worden van blinde_vering_per_passage_mm\n",
    "    \n",
    "# goed\n",
    "@dataclass\n",
    "class SensorSubmission:\n",
    "    blinde_vering_per_passage_mm: list[float]\n",
    "    \n",
    "    def max_blinde_vering_mm(self) -> float:\n",
    "        return max(self.blinde_vering_per_passage_mm)"
   ]
  },
  {
   "cell_type": "markdown",
   "id": "f9eb8b1b923f8c41",
   "metadata": {},
   "source": [
    "Naamgeving: onderzoek de naamgeving gehanteerd binnen het domein (bedrijfstak) gebruik deze waar van toepassing."
   ]
  },
  {
   "cell_type": "markdown",
   "id": "eaa0dc71e2dbd086",
   "metadata": {},
   "source": [
    "# Services\n",
    "\n",
    "Logica, configuratie en dependencies\n",
    "\n",
    "Veel design patterns zijn hier van toepassing"
   ]
  },
  {
   "cell_type": "code",
   "execution_count": null,
   "id": "231ddae2b3dd9475",
   "metadata": {},
   "outputs": [],
   "source": [
    "class SensorSubmissionRepository:\n",
    "    # Constructor injection\n",
    "    def __init__(self, db_connection):\n",
    "        self.db_connection = db_connection \n",
    "\n",
    "    def save(self, submission: SensorSubmission):\n",
    "        self.db_connection.execute('''\n",
    "            INSERT INTO sensor_submissions (start, end, max_blinde_vering_mm)\n",
    "            VALUES (?, ?, ?)\n",
    "        ''', (submission.start, submission.end, submission.max_blinde_vering_mm))\n",
    "            \n",
    "\n",
    "class SensorSubmissionService:\n",
    "    def __init__(self, submission_repository: SensorSubmissionRepository, sms_gateway):\n",
    "        self.submission_repository = submission_repository\n",
    "        self.sms_gateway = sms_gateway\n",
    "\n",
    "    def process_sensor_submission(self, submission: SensorSubmission):\n",
    "        self.repository.save(submission)\n",
    "        \n",
    "        if submission.max_blinde_vering_mm > 90:\n",
    "            self.sms_gateway.send_sms('Blinde vering boven limiet')"
   ]
  },
  {
   "cell_type": "markdown",
   "id": "658073a6a08e4303",
   "metadata": {},
   "source": [
    "Houd code op hetzelfde niveau van abstractie"
   ]
  },
  {
   "cell_type": "code",
   "execution_count": null,
   "id": "4c94660334000643",
   "metadata": {},
   "outputs": [],
   "source": [
    "# fout\n",
    "class SensorSubmissionServiceV2:\n",
    "    def __init__(self, repository: SensorSubmissionRepository, sms_gateway, user_service):\n",
    "        self.repository = repository\n",
    "        self.sms_gateway = sms_gateway\n",
    "        self.user_service = user_service\n",
    "\n",
    "    def process_sensor_submission(self, submission: SensorSubmission):\n",
    "        self.repository.save(submission)\n",
    "\n",
    "        user_profile = self.user_service.fetch_profile()\n",
    "        user_preferences = self.user_service.fetch_preferences()\n",
    "        \n",
    "        should_alert = (user_profile.phone_number is not None \n",
    "                        and user_preferences.alerts_enabled\n",
    "                        and submission.max_blinde_vering_mm > 90)\n",
    "        \n",
    "        if should_alert:\n",
    "            self.sms_gateway.send_sms('Blinde vering boven limiet')\n",
    "\n",
    "# goed\n",
    "class SensorSubmissionServiceV2:\n",
    "    def __init__(self, repository: SensorSubmissionRepository, alert_service: AlertService):\n",
    "        self.th\n",
    "        self.repository = repository\n",
    "        self.alert_service = alert_service\n",
    "\n",
    "    def process_sensor_submission(self, submission: SensorSubmission):\n",
    "        # 2 calls op zelfde niveau van abstractie\n",
    "        self.repository.save(submission)\n",
    "        self.alert_service.process_sensor_submission(submission)\n",
    "        \n",
    "\n",
    "class AlertService:\n",
    "    def __init__(self, sms_gateway, user_service):\n",
    "        self.sms_gateway = sms_gateway\n",
    "        self.user_service = user_service\n",
    "\n",
    "    def process_sensor_submission(self, submission: SensorSubmission) -> bool:\n",
    "        user_profile = self.user_service.fetch_profile()\n",
    "        user_preferences = self.user_service.fetch_preferences()\n",
    "\n",
    "        should_alert = (user_profile.phone_number is not None\n",
    "                        and user_preferences.alerts_enabled\n",
    "                        and submission.max_blinde_vering_mm > 90)\n",
    "\n",
    "        if should_alert:\n",
    "            self.sms_gateway.send_sms('Blinde vering boven limiet')\n",
    "            return True\n",
    "        \n",
    "        return False"
   ]
  },
  {
   "cell_type": "markdown",
   "id": "713bb0311669fc96",
   "metadata": {},
   "source": []
  },
  {
   "cell_type": "markdown",
   "id": "c44d6a657cc096dd",
   "metadata": {},
   "source": []
  }
 ],
 "metadata": {
  "kernelspec": {
   "display_name": "Python 3 (ipykernel)",
   "language": "python",
   "name": "python3"
  },
  "language_info": {
   "codemirror_mode": {
    "name": "ipython",
    "version": 3
   },
   "file_extension": ".py",
   "mimetype": "text/x-python",
   "name": "python",
   "nbconvert_exporter": "python",
   "pygments_lexer": "ipython3",
   "version": "3.12.4"
  }
 },
 "nbformat": 4,
 "nbformat_minor": 5
}
