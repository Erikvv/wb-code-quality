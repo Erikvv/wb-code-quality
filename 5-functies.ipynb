{
 "cells": [
  {
   "cell_type": "markdown",
   "id": "f156c3592b76fec8",
   "metadata": {},
   "source": [
    "# Functies\n",
    "\n",
    "Input -> Output"
   ]
  },
  {
   "cell_type": "code",
   "execution_count": null,
   "id": "b804b09179d90798",
   "metadata": {},
   "outputs": [],
   "source": [
    "class SensorSubmission:\n",
    "    pass\n",
    "\n",
    "class SensorEnricher:\n",
    "    def __init__(self):\n",
    "        self.sensor_repository = None\n",
    "        self.telco_client = None\n",
    "\n",
    "    # Lelijk\n",
    "    def add_sensor_metadata(self, sensor_submission: SensorSubmission) -> SensorSubmission:\n",
    "        sensor_submission.firmware_version = self.sensor_repository.get_firmware_version(sensor_submission.imei)\n",
    "        sensor_submission.city = self.telco_client.get_nearest_city(sensor_submission.imei)\n",
    "        return sensor_submission"
   ]
  },
  {
   "cell_type": "markdown",
   "id": "a253f545d9f02574",
   "metadata": {},
   "source": [
    "Voordeel van \"echte functies\": eenduidige staat van objecten. Code kan gelezen worden zonder context."
   ]
  },
  {
   "cell_type": "code",
   "execution_count": 1,
   "id": "b98ec0aee005860c",
   "metadata": {
    "ExecuteTime": {
     "end_time": "2024-07-18T09:48:24.945579Z",
     "start_time": "2024-07-18T09:48:24.841573Z"
    }
   },
   "outputs": [
    {
     "ename": "NameError",
     "evalue": "name 'dataclass' is not defined",
     "output_type": "error",
     "traceback": [
      "\u001b[0;31m---------------------------------------------------------------------------\u001b[0m",
      "\u001b[0;31mNameError\u001b[0m                                 Traceback (most recent call last)",
      "Cell \u001b[0;32mIn[1], line 1\u001b[0m\n\u001b[0;32m----> 1\u001b[0m \u001b[38;5;129m@dataclass\u001b[39m\n\u001b[1;32m      2\u001b[0m \u001b[38;5;28;01mclass\u001b[39;00m \u001b[38;5;21;01mSensorSubmission\u001b[39;00m:\n\u001b[1;32m      3\u001b[0m     blinde_vering_per_passage_mm: \u001b[38;5;28mlist\u001b[39m[\u001b[38;5;28mfloat\u001b[39m]\n\u001b[1;32m      4\u001b[0m     max_blinde_vering_mm: \u001b[38;5;28mfloat\u001b[39m\n",
      "\u001b[0;31mNameError\u001b[0m: name 'dataclass' is not defined"
     ]
    }
   ],
   "source": [
    "from dataclasses import dataclass\n",
    "\n",
    "@dataclass\n",
    "class RawSensorSubmission:\n",
    "    \"\"\"Input\"\"\"\n",
    "    imei: str\n",
    "    max_blinde_vering_mm: float\n",
    "\n",
    "@dataclass\n",
    "class SensorSubmission:\n",
    "    \"\"\"Output\"\"\"\n",
    "    imei: str\n",
    "    max_blinde_vering_mm: float\n",
    "    firmware_version: str\n",
    "    city: str\n",
    "\n",
    "class SensorEnricherV2:\n",
    "    def __init__(self):\n",
    "        self.sensor_repository = None\n",
    "        self.telco_client = None\n",
    "\n",
    "    def add_sensor_metadata(self, sensor_submission: RawSensorSubmission) -> SensorSubmission:\n",
    "        \"\"\"Mooi\"\"\"\n",
    "        firmware_version = self.sensor_repository.get_firmware_version(sensor_submission.imei)\n",
    "        city = self.telco_client.get_nearest_city(sensor_submission.imei)\n",
    "        \n",
    "        return SensorSubmission(\n",
    "            imei=sensor_submission.imei, \n",
    "            max_blinde_vering_mm=sensor_submission.max_blinde_vering_mm, \n",
    "            firmware_version=firmware_version, \n",
    "            city=city\n",
    "        )"
   ]
  }
 ],
 "metadata": {
  "kernelspec": {
   "display_name": "Python 3 (ipykernel)",
   "language": "python",
   "name": "python3"
  },
  "language_info": {
   "codemirror_mode": {
    "name": "ipython",
    "version": 3
   },
   "file_extension": ".py",
   "mimetype": "text/x-python",
   "name": "python",
   "nbconvert_exporter": "python",
   "pygments_lexer": "ipython3",
   "version": "3.12.4"
  }
 },
 "nbformat": 4,
 "nbformat_minor": 5
}
