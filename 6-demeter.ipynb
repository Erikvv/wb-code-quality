{
 "cells": [
  {
   "cell_type": "markdown",
   "id": "51002cc0cbb66d25",
   "metadata": {},
   "source": [
    "Wet van Demeter\n",
    "---\n",
    "\n",
    "*Een object communiceert alleen via properties of parameters.*\n",
    "\n",
    "In de voorbeelden is dit toegepast\n",
    "\n",
    "* Geen globals, singletons, statics. \n",
    "* Geen properties (van een service) aflopen om onderliggende configuratie, data of services te lezen en zeker niet schrijven.\n",
    "\n",
    "Vrij harde regel."
   ]
  },
  {
   "cell_type": "code",
   "execution_count": null,
   "id": "76acae20e3894ff5",
   "metadata": {},
   "outputs": [],
   "source": []
  }
 ],
 "metadata": {
  "kernelspec": {
   "display_name": "Python 3 (ipykernel)",
   "language": "python",
   "name": "python3"
  },
  "language_info": {
   "codemirror_mode": {
    "name": "ipython",
    "version": 3
   },
   "file_extension": ".py",
   "mimetype": "text/x-python",
   "name": "python",
   "nbconvert_exporter": "python",
   "pygments_lexer": "ipython3",
   "version": "3.12.4"
  }
 },
 "nbformat": 4,
 "nbformat_minor": 5
}
